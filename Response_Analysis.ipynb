{
  "nbformat": 4,
  "nbformat_minor": 0,
  "metadata": {
    "colab": {
      "name": "Response Analysis.ipynb",
      "provenance": [],
      "include_colab_link": true
    },
    "kernelspec": {
      "name": "python3",
      "display_name": "Python 3"
    }
  },
  "cells": [
    {
      "cell_type": "markdown",
      "metadata": {
        "id": "view-in-github",
        "colab_type": "text"
      },
      "source": [
        "<a href=\"https://colab.research.google.com/github/hrai/research-project/blob/master/Response_Analysis.ipynb\" target=\"_parent\"><img src=\"https://colab.research.google.com/assets/colab-badge.svg\" alt=\"Open In Colab\"/></a>"
      ]
    },
    {
      "cell_type": "code",
      "metadata": {
        "id": "tOZ-Zi9KIGrZ",
        "colab_type": "code",
        "colab": {
          "base_uri": "https://localhost:8080/",
          "height": 34
        },
        "outputId": "82c01438-a9ad-4bf0-e8f9-0726634ad627"
      },
      "source": [
        "import pandas as pd\n",
        "import seaborn as sns\n",
        "from pandas import DataFrame\n",
        "import matplotlib.pyplot as plt\n",
        "\n",
        "\n",
        "url='https://raw.githubusercontent.com/hrai/research-project/master/responce-accuracy.csv'\n",
        "\n",
        "df = pd.read_csv(url)\n",
        "df.columns"
      ],
      "execution_count": 4,
      "outputs": [
        {
          "output_type": "execute_result",
          "data": {
            "text/plain": [
              "Index(['Question', 'Translation', 'Score'], dtype='object')"
            ]
          },
          "metadata": {
            "tags": []
          },
          "execution_count": 4
        }
      ]
    },
    {
      "cell_type": "code",
      "metadata": {
        "id": "wVu2PHUQImMQ",
        "colab_type": "code",
        "colab": {
          "base_uri": "https://localhost:8080/",
          "height": 52
        },
        "outputId": "0cafb1ba-f3b6-4e4f-87e2-7fcdf09654bc"
      },
      "source": [
        "rows, cols = df.shape\n",
        "print('total rows - {}'.format(rows))\n",
        "print('total cols - {}'.format(cols))\n"
      ],
      "execution_count": 10,
      "outputs": [
        {
          "output_type": "stream",
          "text": [
            "total rows - 145\n",
            "total cols - 3\n"
          ],
          "name": "stdout"
        }
      ]
    },
    {
      "cell_type": "code",
      "metadata": {
        "id": "ySBenPXFJP4W",
        "colab_type": "code",
        "colab": {
          "base_uri": "https://localhost:8080/",
          "height": 363
        },
        "outputId": "ef044b50-a7e2-4460-d52f-b00663dd92e7"
      },
      "source": [
        "df.head(10)"
      ],
      "execution_count": 11,
      "outputs": [
        {
          "output_type": "execute_result",
          "data": {
            "text/html": [
              "<div>\n",
              "<style scoped>\n",
              "    .dataframe tbody tr th:only-of-type {\n",
              "        vertical-align: middle;\n",
              "    }\n",
              "\n",
              "    .dataframe tbody tr th {\n",
              "        vertical-align: top;\n",
              "    }\n",
              "\n",
              "    .dataframe thead th {\n",
              "        text-align: right;\n",
              "    }\n",
              "</style>\n",
              "<table border=\"1\" class=\"dataframe\">\n",
              "  <thead>\n",
              "    <tr style=\"text-align: right;\">\n",
              "      <th></th>\n",
              "      <th>Question</th>\n",
              "      <th>Translation</th>\n",
              "      <th>Score</th>\n",
              "    </tr>\n",
              "  </thead>\n",
              "  <tbody>\n",
              "    <tr>\n",
              "      <th>0</th>\n",
              "      <td>Are you famous</td>\n",
              "      <td>you are famous</td>\n",
              "      <td>0.714286</td>\n",
              "    </tr>\n",
              "    <tr>\n",
              "      <th>1</th>\n",
              "      <td>Are you famous</td>\n",
              "      <td>timi is famous</td>\n",
              "      <td>0.571429</td>\n",
              "    </tr>\n",
              "    <tr>\n",
              "      <th>2</th>\n",
              "      <td>Are you famous</td>\n",
              "      <td>you are famous</td>\n",
              "      <td>0.714286</td>\n",
              "    </tr>\n",
              "    <tr>\n",
              "      <th>3</th>\n",
              "      <td>Are you famous</td>\n",
              "      <td>timmy is famous</td>\n",
              "      <td>0.551724</td>\n",
              "    </tr>\n",
              "    <tr>\n",
              "      <th>4</th>\n",
              "      <td>Are you famous</td>\n",
              "      <td>timy is famous</td>\n",
              "      <td>0.571429</td>\n",
              "    </tr>\n",
              "    <tr>\n",
              "      <th>5</th>\n",
              "      <td>Are you famous</td>\n",
              "      <td>you are famous</td>\n",
              "      <td>0.714286</td>\n",
              "    </tr>\n",
              "    <tr>\n",
              "      <th>6</th>\n",
              "      <td>Are you famous</td>\n",
              "      <td>teami is famous</td>\n",
              "      <td>0.620690</td>\n",
              "    </tr>\n",
              "    <tr>\n",
              "      <th>7</th>\n",
              "      <td>Are you famous</td>\n",
              "      <td>timhi is famous</td>\n",
              "      <td>0.551724</td>\n",
              "    </tr>\n",
              "    <tr>\n",
              "      <th>8</th>\n",
              "      <td>Are you famous</td>\n",
              "      <td>timie is famous</td>\n",
              "      <td>0.620690</td>\n",
              "    </tr>\n",
              "    <tr>\n",
              "      <th>9</th>\n",
              "      <td>Can you dance for me</td>\n",
              "      <td>can you dance for me</td>\n",
              "      <td>0.950000</td>\n",
              "    </tr>\n",
              "  </tbody>\n",
              "</table>\n",
              "</div>"
            ],
            "text/plain": [
              "               Question           Translation     Score\n",
              "0        Are you famous        you are famous  0.714286\n",
              "1        Are you famous        timi is famous  0.571429\n",
              "2        Are you famous        you are famous  0.714286\n",
              "3        Are you famous       timmy is famous  0.551724\n",
              "4        Are you famous        timy is famous  0.571429\n",
              "5        Are you famous        you are famous  0.714286\n",
              "6        Are you famous       teami is famous  0.620690\n",
              "7        Are you famous       timhi is famous  0.551724\n",
              "8        Are you famous       timie is famous  0.620690\n",
              "9  Can you dance for me  can you dance for me  0.950000"
            ]
          },
          "metadata": {
            "tags": []
          },
          "execution_count": 11
        }
      ]
    },
    {
      "cell_type": "code",
      "metadata": {
        "id": "ro-KzWPKJZNY",
        "colab_type": "code",
        "colab": {
          "base_uri": "https://localhost:8080/",
          "height": 520
        },
        "outputId": "f2c11f9b-2dae-4dda-f3f6-c645d5fc540c"
      },
      "source": [
        "group_by_question = df.groupby(by=['Question'])\n",
        "group_by_question.head(1)\n"
      ],
      "execution_count": 16,
      "outputs": [
        {
          "output_type": "execute_result",
          "data": {
            "text/html": [
              "<div>\n",
              "<style scoped>\n",
              "    .dataframe tbody tr th:only-of-type {\n",
              "        vertical-align: middle;\n",
              "    }\n",
              "\n",
              "    .dataframe tbody tr th {\n",
              "        vertical-align: top;\n",
              "    }\n",
              "\n",
              "    .dataframe thead th {\n",
              "        text-align: right;\n",
              "    }\n",
              "</style>\n",
              "<table border=\"1\" class=\"dataframe\">\n",
              "  <thead>\n",
              "    <tr style=\"text-align: right;\">\n",
              "      <th></th>\n",
              "      <th>Question</th>\n",
              "      <th>Translation</th>\n",
              "      <th>Score</th>\n",
              "    </tr>\n",
              "  </thead>\n",
              "  <tbody>\n",
              "    <tr>\n",
              "      <th>0</th>\n",
              "      <td>Are you famous</td>\n",
              "      <td>you are famous</td>\n",
              "      <td>0.714286</td>\n",
              "    </tr>\n",
              "    <tr>\n",
              "      <th>9</th>\n",
              "      <td>Can you dance for me</td>\n",
              "      <td>can you dance for me</td>\n",
              "      <td>0.950000</td>\n",
              "    </tr>\n",
              "    <tr>\n",
              "      <th>19</th>\n",
              "      <td>Do you like my friend</td>\n",
              "      <td>you like my friend</td>\n",
              "      <td>0.871795</td>\n",
              "    </tr>\n",
              "    <tr>\n",
              "      <th>29</th>\n",
              "      <td>Do you like dogs</td>\n",
              "      <td>timila likes dogs</td>\n",
              "      <td>0.606061</td>\n",
              "    </tr>\n",
              "    <tr>\n",
              "      <th>39</th>\n",
              "      <td>Where is the bathroom</td>\n",
              "      <td>child labor is a story</td>\n",
              "      <td>0.418605</td>\n",
              "    </tr>\n",
              "    <tr>\n",
              "      <th>49</th>\n",
              "      <td>Where is the pharmacy</td>\n",
              "      <td>pharmacy kadar</td>\n",
              "      <td>0.457143</td>\n",
              "    </tr>\n",
              "    <tr>\n",
              "      <th>59</th>\n",
              "      <td>Can you fight</td>\n",
              "      <td>you can argue</td>\n",
              "      <td>0.384615</td>\n",
              "    </tr>\n",
              "    <tr>\n",
              "      <th>69</th>\n",
              "      <td>Why do you talk slow</td>\n",
              "      <td>timi kin beda boleko</td>\n",
              "      <td>0.350000</td>\n",
              "    </tr>\n",
              "    <tr>\n",
              "      <th>79</th>\n",
              "      <td>Do you know about current events</td>\n",
              "      <td>love you khabar aachha</td>\n",
              "      <td>0.407407</td>\n",
              "    </tr>\n",
              "    <tr>\n",
              "      <th>89</th>\n",
              "      <td>What do you drink</td>\n",
              "      <td>what do you drink</td>\n",
              "      <td>0.941176</td>\n",
              "    </tr>\n",
              "    <tr>\n",
              "      <th>99</th>\n",
              "      <td>Are you rich</td>\n",
              "      <td>you are rich</td>\n",
              "      <td>0.666667</td>\n",
              "    </tr>\n",
              "    <tr>\n",
              "      <th>105</th>\n",
              "      <td>Where is the closest station</td>\n",
              "      <td>contains close questation</td>\n",
              "      <td>0.603774</td>\n",
              "    </tr>\n",
              "    <tr>\n",
              "      <th>115</th>\n",
              "      <td>Can you speak other languages</td>\n",
              "      <td>you can speak every language</td>\n",
              "      <td>0.736842</td>\n",
              "    </tr>\n",
              "    <tr>\n",
              "      <th>125</th>\n",
              "      <td>Do you know first aid</td>\n",
              "      <td>you're frosted</td>\n",
              "      <td>0.457143</td>\n",
              "    </tr>\n",
              "    <tr>\n",
              "      <th>135</th>\n",
              "      <td>Where in Australia do you want to travel</td>\n",
              "      <td>timi australi where else do we want to go?</td>\n",
              "      <td>0.560976</td>\n",
              "    </tr>\n",
              "  </tbody>\n",
              "</table>\n",
              "</div>"
            ],
            "text/plain": [
              "                                     Question  ...     Score\n",
              "0                              Are you famous  ...  0.714286\n",
              "9                        Can you dance for me  ...  0.950000\n",
              "19                      Do you like my friend  ...  0.871795\n",
              "29                           Do you like dogs  ...  0.606061\n",
              "39                      Where is the bathroom  ...  0.418605\n",
              "49                      Where is the pharmacy  ...  0.457143\n",
              "59                              Can you fight  ...  0.384615\n",
              "69                       Why do you talk slow  ...  0.350000\n",
              "79           Do you know about current events  ...  0.407407\n",
              "89                          What do you drink  ...  0.941176\n",
              "99                               Are you rich  ...  0.666667\n",
              "105              Where is the closest station  ...  0.603774\n",
              "115             Can you speak other languages  ...  0.736842\n",
              "125                     Do you know first aid  ...  0.457143\n",
              "135  Where in Australia do you want to travel  ...  0.560976\n",
              "\n",
              "[15 rows x 3 columns]"
            ]
          },
          "metadata": {
            "tags": []
          },
          "execution_count": 16
        }
      ]
    }
  ]
}