{
  "nbformat": 4,
  "nbformat_minor": 0,
  "metadata": {
    "colab": {
      "name": "Response Analysis.ipynb",
      "provenance": [],
      "collapsed_sections": [],
      "include_colab_link": true
    },
    "kernelspec": {
      "name": "python3",
      "display_name": "Python 3"
    }
  },
  "cells": [
    {
      "cell_type": "markdown",
      "metadata": {
        "id": "view-in-github",
        "colab_type": "text"
      },
      "source": [
        "<a href=\"https://colab.research.google.com/github/hrai/research-project/blob/master/Response_Analysis.ipynb\" target=\"_parent\"><img src=\"https://colab.research.google.com/assets/colab-badge.svg\" alt=\"Open In Colab\"/></a>"
      ]
    },
    {
      "cell_type": "code",
      "metadata": {
        "id": "tOZ-Zi9KIGrZ",
        "colab_type": "code",
        "outputId": "0abf5d2d-d7ba-4033-b604-bd28c4f48e60",
        "colab": {
          "base_uri": "https://localhost:8080/",
          "height": 34
        }
      },
      "source": [
        "import pandas as pd\n",
        "import seaborn as sns\n",
        "import matplotlib.pyplot as plt\n",
        "from statistics import *\n",
        "\n",
        "url='https://raw.githubusercontent.com/hrai/research-project/master/responce-accuracy.csv'\n",
        "\n",
        "df = pd.read_csv(url)\n",
        "df.columns"
      ],
      "execution_count": 48,
      "outputs": [
        {
          "output_type": "execute_result",
          "data": {
            "text/plain": [
              "Index(['Question', 'Translation', 'Score'], dtype='object')"
            ]
          },
          "metadata": {
            "tags": []
          },
          "execution_count": 48
        }
      ]
    },
    {
      "cell_type": "code",
      "metadata": {
        "id": "wVu2PHUQImMQ",
        "colab_type": "code",
        "outputId": "55933962-f386-4cce-a9be-d20cb3febf41",
        "colab": {
          "base_uri": "https://localhost:8080/",
          "height": 52
        }
      },
      "source": [
        "rows, cols = df.shape\n",
        "print('total rows - {}'.format(rows))\n",
        "print('total cols - {}'.format(cols))\n"
      ],
      "execution_count": 49,
      "outputs": [
        {
          "output_type": "stream",
          "text": [
            "total rows - 145\n",
            "total cols - 3\n"
          ],
          "name": "stdout"
        }
      ]
    },
    {
      "cell_type": "code",
      "metadata": {
        "id": "ySBenPXFJP4W",
        "colab_type": "code",
        "outputId": "faffda62-652e-4db2-8355-98bbc7293645",
        "colab": {
          "base_uri": "https://localhost:8080/",
          "height": 363
        }
      },
      "source": [
        "df.head(10)"
      ],
      "execution_count": 50,
      "outputs": [
        {
          "output_type": "execute_result",
          "data": {
            "text/html": [
              "<div>\n",
              "<style scoped>\n",
              "    .dataframe tbody tr th:only-of-type {\n",
              "        vertical-align: middle;\n",
              "    }\n",
              "\n",
              "    .dataframe tbody tr th {\n",
              "        vertical-align: top;\n",
              "    }\n",
              "\n",
              "    .dataframe thead th {\n",
              "        text-align: right;\n",
              "    }\n",
              "</style>\n",
              "<table border=\"1\" class=\"dataframe\">\n",
              "  <thead>\n",
              "    <tr style=\"text-align: right;\">\n",
              "      <th></th>\n",
              "      <th>Question</th>\n",
              "      <th>Translation</th>\n",
              "      <th>Score</th>\n",
              "    </tr>\n",
              "  </thead>\n",
              "  <tbody>\n",
              "    <tr>\n",
              "      <th>0</th>\n",
              "      <td>Are you famous</td>\n",
              "      <td>you are famous</td>\n",
              "      <td>0.714286</td>\n",
              "    </tr>\n",
              "    <tr>\n",
              "      <th>1</th>\n",
              "      <td>Are you famous</td>\n",
              "      <td>timi is famous</td>\n",
              "      <td>0.571429</td>\n",
              "    </tr>\n",
              "    <tr>\n",
              "      <th>2</th>\n",
              "      <td>Are you famous</td>\n",
              "      <td>you are famous</td>\n",
              "      <td>0.714286</td>\n",
              "    </tr>\n",
              "    <tr>\n",
              "      <th>3</th>\n",
              "      <td>Are you famous</td>\n",
              "      <td>timmy is famous</td>\n",
              "      <td>0.551724</td>\n",
              "    </tr>\n",
              "    <tr>\n",
              "      <th>4</th>\n",
              "      <td>Are you famous</td>\n",
              "      <td>timy is famous</td>\n",
              "      <td>0.571429</td>\n",
              "    </tr>\n",
              "    <tr>\n",
              "      <th>5</th>\n",
              "      <td>Are you famous</td>\n",
              "      <td>you are famous</td>\n",
              "      <td>0.714286</td>\n",
              "    </tr>\n",
              "    <tr>\n",
              "      <th>6</th>\n",
              "      <td>Are you famous</td>\n",
              "      <td>teami is famous</td>\n",
              "      <td>0.620690</td>\n",
              "    </tr>\n",
              "    <tr>\n",
              "      <th>7</th>\n",
              "      <td>Are you famous</td>\n",
              "      <td>timhi is famous</td>\n",
              "      <td>0.551724</td>\n",
              "    </tr>\n",
              "    <tr>\n",
              "      <th>8</th>\n",
              "      <td>Are you famous</td>\n",
              "      <td>timie is famous</td>\n",
              "      <td>0.620690</td>\n",
              "    </tr>\n",
              "    <tr>\n",
              "      <th>9</th>\n",
              "      <td>Can you dance for me</td>\n",
              "      <td>can you dance for me</td>\n",
              "      <td>0.950000</td>\n",
              "    </tr>\n",
              "  </tbody>\n",
              "</table>\n",
              "</div>"
            ],
            "text/plain": [
              "               Question           Translation     Score\n",
              "0        Are you famous        you are famous  0.714286\n",
              "1        Are you famous        timi is famous  0.571429\n",
              "2        Are you famous        you are famous  0.714286\n",
              "3        Are you famous       timmy is famous  0.551724\n",
              "4        Are you famous        timy is famous  0.571429\n",
              "5        Are you famous        you are famous  0.714286\n",
              "6        Are you famous       teami is famous  0.620690\n",
              "7        Are you famous       timhi is famous  0.551724\n",
              "8        Are you famous       timie is famous  0.620690\n",
              "9  Can you dance for me  can you dance for me  0.950000"
            ]
          },
          "metadata": {
            "tags": []
          },
          "execution_count": 50
        }
      ]
    },
    {
      "cell_type": "code",
      "metadata": {
        "id": "ro-KzWPKJZNY",
        "colab_type": "code",
        "outputId": "c6bbb7fa-abc2-476b-a8c3-cfaff9ec4b48",
        "colab": {
          "base_uri": "https://localhost:8080/",
          "height": 551
        }
      },
      "source": [
        "group_by_question = df.groupby(by=['Question'])\n",
        "group_by_question.count()\n"
      ],
      "execution_count": 51,
      "outputs": [
        {
          "output_type": "execute_result",
          "data": {
            "text/html": [
              "<div>\n",
              "<style scoped>\n",
              "    .dataframe tbody tr th:only-of-type {\n",
              "        vertical-align: middle;\n",
              "    }\n",
              "\n",
              "    .dataframe tbody tr th {\n",
              "        vertical-align: top;\n",
              "    }\n",
              "\n",
              "    .dataframe thead th {\n",
              "        text-align: right;\n",
              "    }\n",
              "</style>\n",
              "<table border=\"1\" class=\"dataframe\">\n",
              "  <thead>\n",
              "    <tr style=\"text-align: right;\">\n",
              "      <th></th>\n",
              "      <th>Translation</th>\n",
              "      <th>Score</th>\n",
              "    </tr>\n",
              "    <tr>\n",
              "      <th>Question</th>\n",
              "      <th></th>\n",
              "      <th></th>\n",
              "    </tr>\n",
              "  </thead>\n",
              "  <tbody>\n",
              "    <tr>\n",
              "      <th>Are you famous</th>\n",
              "      <td>9</td>\n",
              "      <td>9</td>\n",
              "    </tr>\n",
              "    <tr>\n",
              "      <th>Are you rich</th>\n",
              "      <td>6</td>\n",
              "      <td>6</td>\n",
              "    </tr>\n",
              "    <tr>\n",
              "      <th>Can you dance for me</th>\n",
              "      <td>10</td>\n",
              "      <td>10</td>\n",
              "    </tr>\n",
              "    <tr>\n",
              "      <th>Can you fight</th>\n",
              "      <td>10</td>\n",
              "      <td>10</td>\n",
              "    </tr>\n",
              "    <tr>\n",
              "      <th>Can you speak other languages</th>\n",
              "      <td>10</td>\n",
              "      <td>10</td>\n",
              "    </tr>\n",
              "    <tr>\n",
              "      <th>Do you know about current events</th>\n",
              "      <td>10</td>\n",
              "      <td>10</td>\n",
              "    </tr>\n",
              "    <tr>\n",
              "      <th>Do you know first aid</th>\n",
              "      <td>10</td>\n",
              "      <td>10</td>\n",
              "    </tr>\n",
              "    <tr>\n",
              "      <th>Do you like dogs</th>\n",
              "      <td>10</td>\n",
              "      <td>10</td>\n",
              "    </tr>\n",
              "    <tr>\n",
              "      <th>Do you like my friend</th>\n",
              "      <td>10</td>\n",
              "      <td>10</td>\n",
              "    </tr>\n",
              "    <tr>\n",
              "      <th>What do you drink</th>\n",
              "      <td>10</td>\n",
              "      <td>10</td>\n",
              "    </tr>\n",
              "    <tr>\n",
              "      <th>Where in Australia do you want to travel</th>\n",
              "      <td>10</td>\n",
              "      <td>10</td>\n",
              "    </tr>\n",
              "    <tr>\n",
              "      <th>Where is the bathroom</th>\n",
              "      <td>10</td>\n",
              "      <td>10</td>\n",
              "    </tr>\n",
              "    <tr>\n",
              "      <th>Where is the closest station</th>\n",
              "      <td>10</td>\n",
              "      <td>10</td>\n",
              "    </tr>\n",
              "    <tr>\n",
              "      <th>Where is the pharmacy</th>\n",
              "      <td>10</td>\n",
              "      <td>10</td>\n",
              "    </tr>\n",
              "    <tr>\n",
              "      <th>Why do you talk slow</th>\n",
              "      <td>10</td>\n",
              "      <td>10</td>\n",
              "    </tr>\n",
              "  </tbody>\n",
              "</table>\n",
              "</div>"
            ],
            "text/plain": [
              "                                          Translation  Score\n",
              "Question                                                    \n",
              "Are you famous                                      9      9\n",
              "Are you rich                                        6      6\n",
              "Can you dance for me                               10     10\n",
              "Can you fight                                      10     10\n",
              "Can you speak other languages                      10     10\n",
              "Do you know about current events                   10     10\n",
              "Do you know first aid                              10     10\n",
              "Do you like dogs                                   10     10\n",
              "Do you like my friend                              10     10\n",
              "What do you drink                                  10     10\n",
              "Where in Australia do you want to travel           10     10\n",
              "Where is the bathroom                              10     10\n",
              "Where is the closest station                       10     10\n",
              "Where is the pharmacy                              10     10\n",
              "Why do you talk slow                               10     10"
            ]
          },
          "metadata": {
            "tags": []
          },
          "execution_count": 51
        }
      ]
    },
    {
      "cell_type": "code",
      "metadata": {
        "id": "guzYpgezKQD4",
        "colab_type": "code",
        "outputId": "89028968-4b8d-4d7b-cb48-bc0c22b15d58",
        "colab": {
          "base_uri": "https://localhost:8080/",
          "height": 551
        }
      },
      "source": [
        "mean_score=group_by_question.mean()\n",
        "\n",
        "mean_score"
      ],
      "execution_count": 52,
      "outputs": [
        {
          "output_type": "execute_result",
          "data": {
            "text/html": [
              "<div>\n",
              "<style scoped>\n",
              "    .dataframe tbody tr th:only-of-type {\n",
              "        vertical-align: middle;\n",
              "    }\n",
              "\n",
              "    .dataframe tbody tr th {\n",
              "        vertical-align: top;\n",
              "    }\n",
              "\n",
              "    .dataframe thead th {\n",
              "        text-align: right;\n",
              "    }\n",
              "</style>\n",
              "<table border=\"1\" class=\"dataframe\">\n",
              "  <thead>\n",
              "    <tr style=\"text-align: right;\">\n",
              "      <th></th>\n",
              "      <th>Score</th>\n",
              "    </tr>\n",
              "    <tr>\n",
              "      <th>Question</th>\n",
              "      <th></th>\n",
              "    </tr>\n",
              "  </thead>\n",
              "  <tbody>\n",
              "    <tr>\n",
              "      <th>Are you famous</th>\n",
              "      <td>0.625616</td>\n",
              "    </tr>\n",
              "    <tr>\n",
              "      <th>Are you rich</th>\n",
              "      <td>0.633838</td>\n",
              "    </tr>\n",
              "    <tr>\n",
              "      <th>Can you dance for me</th>\n",
              "      <td>0.747451</td>\n",
              "    </tr>\n",
              "    <tr>\n",
              "      <th>Can you fight</th>\n",
              "      <td>0.397613</td>\n",
              "    </tr>\n",
              "    <tr>\n",
              "      <th>Can you speak other languages</th>\n",
              "      <td>0.774875</td>\n",
              "    </tr>\n",
              "    <tr>\n",
              "      <th>Do you know about current events</th>\n",
              "      <td>0.397943</td>\n",
              "    </tr>\n",
              "    <tr>\n",
              "      <th>Do you know first aid</th>\n",
              "      <td>0.457902</td>\n",
              "    </tr>\n",
              "    <tr>\n",
              "      <th>Do you like dogs</th>\n",
              "      <td>0.660718</td>\n",
              "    </tr>\n",
              "    <tr>\n",
              "      <th>Do you like my friend</th>\n",
              "      <td>0.724363</td>\n",
              "    </tr>\n",
              "    <tr>\n",
              "      <th>What do you drink</th>\n",
              "      <td>0.739460</td>\n",
              "    </tr>\n",
              "    <tr>\n",
              "      <th>Where in Australia do you want to travel</th>\n",
              "      <td>0.543062</td>\n",
              "    </tr>\n",
              "    <tr>\n",
              "      <th>Where is the bathroom</th>\n",
              "      <td>0.526659</td>\n",
              "    </tr>\n",
              "    <tr>\n",
              "      <th>Where is the closest station</th>\n",
              "      <td>0.496125</td>\n",
              "    </tr>\n",
              "    <tr>\n",
              "      <th>Where is the pharmacy</th>\n",
              "      <td>0.392413</td>\n",
              "    </tr>\n",
              "    <tr>\n",
              "      <th>Why do you talk slow</th>\n",
              "      <td>0.463974</td>\n",
              "    </tr>\n",
              "  </tbody>\n",
              "</table>\n",
              "</div>"
            ],
            "text/plain": [
              "                                             Score\n",
              "Question                                          \n",
              "Are you famous                            0.625616\n",
              "Are you rich                              0.633838\n",
              "Can you dance for me                      0.747451\n",
              "Can you fight                             0.397613\n",
              "Can you speak other languages             0.774875\n",
              "Do you know about current events          0.397943\n",
              "Do you know first aid                     0.457902\n",
              "Do you like dogs                          0.660718\n",
              "Do you like my friend                     0.724363\n",
              "What do you drink                         0.739460\n",
              "Where in Australia do you want to travel  0.543062\n",
              "Where is the bathroom                     0.526659\n",
              "Where is the closest station              0.496125\n",
              "Where is the pharmacy                     0.392413\n",
              "Why do you talk slow                      0.463974"
            ]
          },
          "metadata": {
            "tags": []
          },
          "execution_count": 52
        }
      ]
    },
    {
      "cell_type": "code",
      "metadata": {
        "id": "-Kf8BprQK6EZ",
        "colab_type": "code",
        "outputId": "48edf02d-0fcf-459d-faf4-cb2df3a84856",
        "colab": {
          "base_uri": "https://localhost:8080/",
          "height": 291
        }
      },
      "source": [
        "\n",
        "sns.set(style=\"whitegrid\")\n",
        "ax = sns.barplot(x=\"Score\", y=\"Question\", orient='h', estimator=mean, data=df)"
      ],
      "execution_count": 53,
      "outputs": [
        {
          "output_type": "display_data",
          "data": {
            "image/png": "[encoded data removed]",
            "text/plain": [
              "<Figure size 432x288 with 1 Axes>"
            ]
          },
          "metadata": {
            "tags": []
          }
        }
      ]
    },
    {
      "cell_type": "code",
      "metadata": {
        "id": "na6UJSuHNoKE",
        "colab_type": "code",
        "outputId": "8bb89fd0-ce90-4083-f901-6ddec1847731",
        "colab": {
          "base_uri": "https://localhost:8080/",
          "height": 551
        }
      },
      "source": [
        "max_score=group_by_question.max()\n",
        "max_score"
      ],
      "execution_count": 54,
      "outputs": [
        {
          "output_type": "execute_result",
          "data": {
            "text/html": [
              "<div>\n",
              "<style scoped>\n",
              "    .dataframe tbody tr th:only-of-type {\n",
              "        vertical-align: middle;\n",
              "    }\n",
              "\n",
              "    .dataframe tbody tr th {\n",
              "        vertical-align: top;\n",
              "    }\n",
              "\n",
              "    .dataframe thead th {\n",
              "        text-align: right;\n",
              "    }\n",
              "</style>\n",
              "<table border=\"1\" class=\"dataframe\">\n",
              "  <thead>\n",
              "    <tr style=\"text-align: right;\">\n",
              "      <th></th>\n",
              "      <th>Translation</th>\n",
              "      <th>Score</th>\n",
              "    </tr>\n",
              "    <tr>\n",
              "      <th>Question</th>\n",
              "      <th></th>\n",
              "      <th></th>\n",
              "    </tr>\n",
              "  </thead>\n",
              "  <tbody>\n",
              "    <tr>\n",
              "      <th>Are you famous</th>\n",
              "      <td>you are famous</td>\n",
              "      <td>0.714286</td>\n",
              "    </tr>\n",
              "    <tr>\n",
              "      <th>Are you rich</th>\n",
              "      <td>you rich 6</td>\n",
              "      <td>0.666667</td>\n",
              "    </tr>\n",
              "    <tr>\n",
              "      <th>Can you dance for me</th>\n",
              "      <td>you could naseba for me</td>\n",
              "      <td>0.950000</td>\n",
              "    </tr>\n",
              "    <tr>\n",
              "      <th>Can you fight</th>\n",
              "      <td>you can fight</td>\n",
              "      <td>0.692308</td>\n",
              "    </tr>\n",
              "    <tr>\n",
              "      <th>Can you speak other languages</th>\n",
              "      <td>you can speak the language</td>\n",
              "      <td>0.813559</td>\n",
              "    </tr>\n",
              "    <tr>\n",
              "      <th>Do you know about current events</th>\n",
              "      <td>timiline maya khabar aachha</td>\n",
              "      <td>0.448980</td>\n",
              "    </tr>\n",
              "    <tr>\n",
              "      <th>Do you know first aid</th>\n",
              "      <td>you're frosted</td>\n",
              "      <td>0.631579</td>\n",
              "    </tr>\n",
              "    <tr>\n",
              "      <th>Do you like dogs</th>\n",
              "      <td>your favorite dog</td>\n",
              "      <td>0.827586</td>\n",
              "    </tr>\n",
              "    <tr>\n",
              "      <th>Do you like my friend</th>\n",
              "      <td>you liked my friend</td>\n",
              "      <td>0.871795</td>\n",
              "    </tr>\n",
              "    <tr>\n",
              "      <th>What do you drink</th>\n",
              "      <td>you drink</td>\n",
              "      <td>0.941176</td>\n",
              "    </tr>\n",
              "    <tr>\n",
              "      <th>Where in Australia do you want to travel</th>\n",
              "      <td>where else would you like to go australie</td>\n",
              "      <td>0.560976</td>\n",
              "    </tr>\n",
              "    <tr>\n",
              "      <th>Where is the bathroom</th>\n",
              "      <td>where is the child labor?</td>\n",
              "      <td>0.878049</td>\n",
              "    </tr>\n",
              "    <tr>\n",
              "      <th>Where is the closest station</th>\n",
              "      <td>the nearest questation is kothe</td>\n",
              "      <td>0.679245</td>\n",
              "    </tr>\n",
              "    <tr>\n",
              "      <th>Where is the pharmacy</th>\n",
              "      <td>pharmacy so</td>\n",
              "      <td>0.500000</td>\n",
              "    </tr>\n",
              "    <tr>\n",
              "      <th>Why do you talk slow</th>\n",
              "      <td>why you boleko in bed</td>\n",
              "      <td>0.790698</td>\n",
              "    </tr>\n",
              "  </tbody>\n",
              "</table>\n",
              "</div>"
            ],
            "text/plain": [
              "                                                                        Translation     Score\n",
              "Question                                                                                     \n",
              "Are you famous                                                       you are famous  0.714286\n",
              "Are you rich                                                             you rich 6  0.666667\n",
              "Can you dance for me                                        you could naseba for me  0.950000\n",
              "Can you fight                                                         you can fight  0.692308\n",
              "Can you speak other languages                            you can speak the language  0.813559\n",
              "Do you know about current events                        timiline maya khabar aachha  0.448980\n",
              "Do you know first aid                                                you're frosted  0.631579\n",
              "Do you like dogs                                                  your favorite dog  0.827586\n",
              "Do you like my friend                                           you liked my friend  0.871795\n",
              "What do you drink                                                         you drink  0.941176\n",
              "Where in Australia do you want to travel  where else would you like to go australie  0.560976\n",
              "Where is the bathroom                                     where is the child labor?  0.878049\n",
              "Where is the closest station                        the nearest questation is kothe  0.679245\n",
              "Where is the pharmacy                                                   pharmacy so  0.500000\n",
              "Why do you talk slow                                          why you boleko in bed  0.790698"
            ]
          },
          "metadata": {
            "tags": []
          },
          "execution_count": 54
        }
      ]
    },
    {
      "cell_type": "code",
      "metadata": {
        "id": "ChFuvDdsOBEj",
        "colab_type": "code",
        "outputId": "33255d0c-8e06-4c77-9058-862f5ecaae08",
        "colab": {
          "base_uri": "https://localhost:8080/",
          "height": 34
        }
      },
      "source": [
        "avg_max_score=max_score['Score'].mean()\n",
        "print('average max score is {}'.format(avg_max_score))"
      ],
      "execution_count": 55,
      "outputs": [
        {
          "output_type": "stream",
          "text": [
            "average max score is 0.7311268554333334\n"
          ],
          "name": "stdout"
        }
      ]
    },
    {
      "cell_type": "code",
      "metadata": {
        "id": "LHAcIx5lN4t7",
        "colab_type": "code",
        "outputId": "ae7d7fbf-fb0f-467e-99cc-2264e61abbae",
        "colab": {
          "base_uri": "https://localhost:8080/",
          "height": 551
        }
      },
      "source": [
        "min_score=group_by_question.min()\n",
        "min_score"
      ],
      "execution_count": 56,
      "outputs": [
        {
          "output_type": "execute_result",
          "data": {
            "text/html": [
              "<div>\n",
              "<style scoped>\n",
              "    .dataframe tbody tr th:only-of-type {\n",
              "        vertical-align: middle;\n",
              "    }\n",
              "\n",
              "    .dataframe tbody tr th {\n",
              "        vertical-align: top;\n",
              "    }\n",
              "\n",
              "    .dataframe thead th {\n",
              "        text-align: right;\n",
              "    }\n",
              "</style>\n",
              "<table border=\"1\" class=\"dataframe\">\n",
              "  <thead>\n",
              "    <tr style=\"text-align: right;\">\n",
              "      <th></th>\n",
              "      <th>Translation</th>\n",
              "      <th>Score</th>\n",
              "    </tr>\n",
              "    <tr>\n",
              "      <th>Question</th>\n",
              "      <th></th>\n",
              "      <th></th>\n",
              "    </tr>\n",
              "  </thead>\n",
              "  <tbody>\n",
              "    <tr>\n",
              "      <th>Are you famous</th>\n",
              "      <td>teami is famous</td>\n",
              "      <td>0.551724</td>\n",
              "    </tr>\n",
              "    <tr>\n",
              "      <th>Are you rich</th>\n",
              "      <td>timi is rich</td>\n",
              "      <td>0.500000</td>\n",
              "    </tr>\n",
              "    <tr>\n",
              "      <th>Can you dance for me</th>\n",
              "      <td>can dance for timimero</td>\n",
              "      <td>0.571429</td>\n",
              "    </tr>\n",
              "    <tr>\n",
              "      <th>Can you fight</th>\n",
              "      <td>timi may quarrel</td>\n",
              "      <td>0.206897</td>\n",
              "    </tr>\n",
              "    <tr>\n",
              "      <th>Can you speak other languages</th>\n",
              "      <td>can speak your language</td>\n",
              "      <td>0.736842</td>\n",
              "    </tr>\n",
              "    <tr>\n",
              "      <th>Do you know about current events</th>\n",
              "      <td>love you khabar aachar</td>\n",
              "      <td>0.271186</td>\n",
              "    </tr>\n",
              "    <tr>\n",
              "      <th>Do you know first aid</th>\n",
              "      <td>timila for state is six</td>\n",
              "      <td>0.363636</td>\n",
              "    </tr>\n",
              "    <tr>\n",
              "      <th>Do you like dogs</th>\n",
              "      <td>likes timila kukur</td>\n",
              "      <td>0.294118</td>\n",
              "    </tr>\n",
              "    <tr>\n",
              "      <th>Do you like my friend</th>\n",
              "      <td>like timila merosathi</td>\n",
              "      <td>0.380952</td>\n",
              "    </tr>\n",
              "    <tr>\n",
              "      <th>What do you drink</th>\n",
              "      <td>drink of the timi</td>\n",
              "      <td>0.294118</td>\n",
              "    </tr>\n",
              "    <tr>\n",
              "      <th>Where in Australia do you want to travel</th>\n",
              "      <td>timi austraili where else do we want to go?</td>\n",
              "      <td>0.488372</td>\n",
              "    </tr>\n",
              "    <tr>\n",
              "      <th>Where is the bathroom</th>\n",
              "      <td>barsam is the story</td>\n",
              "      <td>0.300000</td>\n",
              "    </tr>\n",
              "    <tr>\n",
              "      <th>Where is the closest station</th>\n",
              "      <td>contains close questation</td>\n",
              "      <td>0.355556</td>\n",
              "    </tr>\n",
              "    <tr>\n",
              "      <th>Where is the pharmacy</th>\n",
              "      <td>farm</td>\n",
              "      <td>0.240000</td>\n",
              "    </tr>\n",
              "    <tr>\n",
              "      <th>Why do you talk slow</th>\n",
              "      <td>timi kin beda boleko</td>\n",
              "      <td>0.272727</td>\n",
              "    </tr>\n",
              "  </tbody>\n",
              "</table>\n",
              "</div>"
            ],
            "text/plain": [
              "                                                                          Translation     Score\n",
              "Question                                                                                       \n",
              "Are you famous                                                        teami is famous  0.551724\n",
              "Are you rich                                                             timi is rich  0.500000\n",
              "Can you dance for me                                           can dance for timimero  0.571429\n",
              "Can you fight                                                        timi may quarrel  0.206897\n",
              "Can you speak other languages                                 can speak your language  0.736842\n",
              "Do you know about current events                               love you khabar aachar  0.271186\n",
              "Do you know first aid                                         timila for state is six  0.363636\n",
              "Do you like dogs                                                   likes timila kukur  0.294118\n",
              "Do you like my friend                                           like timila merosathi  0.380952\n",
              "What do you drink                                                   drink of the timi  0.294118\n",
              "Where in Australia do you want to travel  timi austraili where else do we want to go?  0.488372\n",
              "Where is the bathroom                                             barsam is the story  0.300000\n",
              "Where is the closest station                                contains close questation  0.355556\n",
              "Where is the pharmacy                                                            farm  0.240000\n",
              "Why do you talk slow                                             timi kin beda boleko  0.272727"
            ]
          },
          "metadata": {
            "tags": []
          },
          "execution_count": 56
        }
      ]
    },
    {
      "cell_type": "code",
      "metadata": {
        "id": "5GiTOP3dORqG",
        "colab_type": "code",
        "outputId": "17495f4c-89fe-4ce4-c6fe-8c2f9c5911d0",
        "colab": {
          "base_uri": "https://localhost:8080/",
          "height": 34
        }
      },
      "source": [
        "avg_min_score=min_score['Score'].mean()\n",
        "print('average min score is {}'.format(avg_min_score))"
      ],
      "execution_count": 57,
      "outputs": [
        {
          "output_type": "stream",
          "text": [
            "average min score is 0.38850378447333334\n"
          ],
          "name": "stdout"
        }
      ]
    },
    {
      "cell_type": "code",
      "metadata": {
        "id": "Uh6LWxPEOYnD",
        "colab_type": "code",
        "outputId": "66a85756-2aa1-453a-df36-25a2822f847f",
        "colab": {
          "base_uri": "https://localhost:8080/",
          "height": 34
        }
      },
      "source": [
        "avg_score=df['Score'].mean()\n",
        "print('average score is {}'.format(avg_score))"
      ],
      "execution_count": 58,
      "outputs": [
        {
          "output_type": "stream",
          "text": [
            "average score is 0.5700631354365515\n"
          ],
          "name": "stdout"
        }
      ]
    }
  ]
}